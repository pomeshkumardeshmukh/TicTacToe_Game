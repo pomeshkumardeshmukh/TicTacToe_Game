{
 "cells": [
  {
   "cell_type": "markdown",
   "id": "191bd696",
   "metadata": {},
   "source": [
    "# Tic-Tac-Toe"
   ]
  },
  {
   "cell_type": "code",
   "execution_count": null,
   "id": "90c7e594",
   "metadata": {},
   "outputs": [],
   "source": [
    "import random    # for randint func for computer's move\n",
    "import time      # for sleep function to add delay\n",
    "from IPython.display import clear_output    # to clear previous output and display updated board"
   ]
  },
  {
   "cell_type": "code",
   "execution_count": null,
   "id": "afb30fce",
   "metadata": {},
   "outputs": [],
   "source": [
    "# clrscr() function\n",
    "def clrscr():\n",
    "    clear_output(wait = True)\n",
    "\n",
    "# delay() function\n",
    "def delay(x=1):\n",
    "    time.sleep(x)"
   ]
  },
  {
   "cell_type": "code",
   "execution_count": null,
   "id": "7f0645e0",
   "metadata": {},
   "outputs": [],
   "source": [
    "# The function accepts one parameter containing the board's current status\n",
    "# and prints it out to the console.\n",
    "def display_board(board):\n",
    "    clrscr()\n",
    "    for row in range(len(board)):\n",
    "        print(\"+-------+-------+-------+\")\n",
    "        #print(\"|       |       |       |\")\n",
    "        \n",
    "        for column in range(len(board[row])):\n",
    "            \n",
    "            if isinstance(board[row][column],int):\n",
    "                print(\"|\",end=\"\")\n",
    "                print(board[row][column],end=\"      \")\n",
    "            else:\n",
    "                print(\"|       \",end=\"\")        \n",
    "        print(\"|\")\n",
    "        \n",
    "        for column in range(len(board[row])):\n",
    "            \n",
    "            if isinstance(board[row][column],str):\n",
    "                print(\"|   \",end=\"\")\n",
    "                print(board[row][column],end=\"   \")\n",
    "            else:\n",
    "                print(\"|       \",end=\"\")    \n",
    "        print(\"|\")\n",
    "        \n",
    "        print(\"|       |       |       |\")\n",
    "    print(\"+-------+-------+-------+\")\n"
   ]
  },
  {
   "cell_type": "code",
   "execution_count": null,
   "id": "ed2fc32e",
   "metadata": {},
   "outputs": [],
   "source": [
    "# The function accepts the board's current status, asks the user about their move, \n",
    "# checks the input, and updates the board according to the user's decision.\n",
    "def enter_move(board): \n",
    "    move = int(input(\"Enter your move: \"))\n",
    "    for row in board:\n",
    "        if move in row:\n",
    "            for i in range(len(row)):\n",
    "                if move == row[i]:\n",
    "                    row[i] = 'O'\n",
    "                    break;\n",
    "            break;\n",
    "    else:\n",
    "        print(\"Position is already occupied!!!\")\n",
    "        enter_move(board)\n",
    "    \n",
    "    # display_board(board)\n",
    "    return board"
   ]
  },
  {
   "cell_type": "code",
   "execution_count": null,
   "id": "d8e61c81",
   "metadata": {},
   "outputs": [],
   "source": [
    "# The function browses the board and builds a list of all the free squares; \n",
    "# the list consists of tuples, while each tuple is a pair of row and column numbers.\n",
    "def make_list_of_free_fields(board):\n",
    "    free_board = []\n",
    "    for row in range(len(board)):\n",
    "        for col in range(len(board[row])):\n",
    "            if isinstance(board[row][col],str):\n",
    "                continue\n",
    "            else:\n",
    "                free_board.append((row,col))\n",
    "                \n",
    "    # print(free_board)\n",
    "    return free_board"
   ]
  },
  {
   "cell_type": "code",
   "execution_count": null,
   "id": "d17d850b",
   "metadata": {},
   "outputs": [],
   "source": [
    "# The function analyzes the board's status in order to check if \n",
    "# the player using 'O's or 'X's has won the game\n",
    "def victory_for(board, sign):\n",
    "    # row check\n",
    "    for i in range(3):\n",
    "        if board[i].count(sign)==3:\n",
    "            return 1\n",
    "    # column check\n",
    "    for i in range(3):\n",
    "        if board[0][i]==board[1][i]==board[2][i]==sign:\n",
    "            return 1\n",
    "    \n",
    "    # diagonal check\n",
    "    if board[0][0]==board[1][1]==board[2][2]==sign:\n",
    "        return 1\n",
    "    elif board[0][2]==board[1][1]==board[2][0]==sign:\n",
    "        return 1\n",
    "    else:\n",
    "        return -1"
   ]
  },
  {
   "cell_type": "code",
   "execution_count": null,
   "id": "93063c23",
   "metadata": {},
   "outputs": [],
   "source": [
    "# The function draws the computer's move and updates the board.\n",
    "def draw_move(board):\n",
    "    \n",
    "    board_x = make_list_of_free_fields(board)\n",
    "    move = random.choice(board_x)\n",
    "    board[move[0]][move[1]] = 'X'\n",
    "    # display_board(board)\n",
    "    return board"
   ]
  },
  {
   "cell_type": "code",
   "execution_count": null,
   "id": "2b47db1e",
   "metadata": {},
   "outputs": [],
   "source": [
    "# driver program\n",
    "board1 = [[1,2,3],[4,5,6],[7,8,9]]\n",
    "flag = -1\n",
    "display_board(board1)\n",
    "print(\"First move is mine...\")\n",
    "board1[1][1] = 'X'\n",
    "\n",
    "delay(2)\n",
    "display_board(board1)\n",
    "while len(make_list_of_free_fields(board1))!= 0 :\n",
    "    \n",
    "    print(\"Its your turn...\")\n",
    "    delay()\n",
    "    board1 = enter_move(board1)\n",
    "    display_board(board1)\n",
    "    delay()\n",
    "    flag = victory_for(board1,'O')\n",
    "    if flag == 1:\n",
    "        print(\"CONGRATULATIONS...\\n......You Won !!!\")\n",
    "        break       \n",
    "    \n",
    "    print(\"Wait... Its my turn now...\")\n",
    "    board1 = draw_move(board1)\n",
    "    delay(2)\n",
    "    display_board(board1)\n",
    "    flag = victory_for(board1,'X')\n",
    "    if flag == 1:\n",
    "        print(\"Oops... You Lost !!!\")\n",
    "        break\n",
    "else:\n",
    "    print(\"Game DRAW....\")"
   ]
  }
 ],
 "metadata": {
  "kernelspec": {
   "display_name": "Python 3 (ipykernel)",
   "language": "python",
   "name": "python3"
  },
  "language_info": {
   "codemirror_mode": {
    "name": "ipython",
    "version": 3
   },
   "file_extension": ".py",
   "mimetype": "text/x-python",
   "name": "python",
   "nbconvert_exporter": "python",
   "pygments_lexer": "ipython3",
   "version": "3.8.12"
  }
 },
 "nbformat": 4,
 "nbformat_minor": 5
}
